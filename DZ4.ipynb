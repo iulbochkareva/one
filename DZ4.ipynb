{
  "nbformat": 4,
  "nbformat_minor": 0,
  "metadata": {
    "colab": {
      "provenance": []
    },
    "kernelspec": {
      "name": "python3",
      "display_name": "Python 3"
    },
    "language_info": {
      "name": "python"
    }
  },
  "cells": [
    {
      "cell_type": "code",
      "execution_count": null,
      "metadata": {
        "id": "v71KoeYNT1Np"
      },
      "outputs": [],
      "source": [
        "import numpy as np"
      ]
    },
    {
      "cell_type": "markdown",
      "source": [
        "Задача 1"
      ],
      "metadata": {
        "id": "2KvwHH9QZZes"
      }
    },
    {
      "cell_type": "code",
      "source": [
        "matrixA = np.array([[1, 2, 1], [-2, 1, 1]])\n",
        "matrixB = np.array([[3, 1], [-1, 0], [2, 4]])\n",
        "matrixC = np.array([[-2, 2], [1, -1], [1, 2]])\n",
        "print (\"Матрица A = :\\n\", matrixA)\n",
        "print (\"Матрица B = :\\n\", matrixB)\n",
        "print (\"Матрица C = :\\n\", matrixC)"
      ],
      "metadata": {
        "colab": {
          "base_uri": "https://localhost:8080/"
        },
        "id": "dwQjYPf9UaP8",
        "outputId": "001c5368-38ef-40d7-9e67-1b1b5713aacf"
      },
      "execution_count": null,
      "outputs": [
        {
          "output_type": "stream",
          "name": "stdout",
          "text": [
            "Матрица A = :\n",
            " [[ 1  2  1]\n",
            " [-2  1  1]]\n",
            "Матрица B = :\n",
            " [[ 3  1]\n",
            " [-1  0]\n",
            " [ 2  4]]\n",
            "Матрица C = :\n",
            " [[-2  2]\n",
            " [ 1 -1]\n",
            " [ 1  2]]\n"
          ]
        }
      ]
    },
    {
      "cell_type": "code",
      "source": [
        "matrixA_t = matrixA.transpose()"
      ],
      "metadata": {
        "id": "JietvFRyVVMT"
      },
      "execution_count": null,
      "outputs": []
    },
    {
      "cell_type": "code",
      "source": [
        "print('Результат: A + 2 * B')\n",
        "print(matrixA_t + 2 * matrixB)\n",
        "print('Результат: B + 2 * C')\n",
        "print(matrixB + 2 * matrixC)"
      ],
      "metadata": {
        "colab": {
          "base_uri": "https://localhost:8080/"
        },
        "id": "9fYuQy46Vhx6",
        "outputId": "3952a03e-1a64-4a84-c748-1a593b3b3c8c"
      },
      "execution_count": null,
      "outputs": [
        {
          "output_type": "stream",
          "name": "stdout",
          "text": [
            "Результат: A + 2 * B\n",
            "[[7 0]\n",
            " [0 1]\n",
            " [5 9]]\n",
            "Результат: B + 2 * C\n",
            "[[-1  5]\n",
            " [ 1 -2]\n",
            " [ 4  8]]\n"
          ]
        }
      ]
    },
    {
      "cell_type": "markdown",
      "source": [
        "Задача 2"
      ],
      "metadata": {
        "id": "i9WC6gTkZIo5"
      }
    },
    {
      "cell_type": "code",
      "source": [
        "matrix = np.fromfunction(lambda i, j : np.int32(i % 2 == j % 2),(8,8))\n",
        "print(matrix)"
      ],
      "metadata": {
        "colab": {
          "base_uri": "https://localhost:8080/"
        },
        "id": "rX5HX1NSZBRl",
        "outputId": "f7639d6f-f365-4b6e-dcc2-3998ff33bcfc"
      },
      "execution_count": null,
      "outputs": [
        {
          "output_type": "stream",
          "name": "stdout",
          "text": [
            "[[1 0 1 0 1 0 1 0]\n",
            " [0 1 0 1 0 1 0 1]\n",
            " [1 0 1 0 1 0 1 0]\n",
            " [0 1 0 1 0 1 0 1]\n",
            " [1 0 1 0 1 0 1 0]\n",
            " [0 1 0 1 0 1 0 1]\n",
            " [1 0 1 0 1 0 1 0]\n",
            " [0 1 0 1 0 1 0 1]]\n"
          ]
        }
      ]
    }
  ]
}